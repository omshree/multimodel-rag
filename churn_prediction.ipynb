{
 "cells": [
  {
   "cell_type": "code",
   "execution_count": 1,
   "metadata": {},
   "outputs": [],
   "source": [
    "import numpy as np \n",
    "import pandas as pd\n",
    "import seaborn as sns\n",
    "import matplotlib.pyplot as plt\n",
    "from sklearn.impute import KNNImputer\n",
    "import plotly.express as px\n",
    "\n",
    "\n",
    "from sklearn.model_selection import train_test_split, KFold, StratifiedKFold, RepeatedStratifiedKFold, cross_val_score, cross_val_predict, GridSearchCV, RandomizedSearchCV\n",
    "\n",
    "from sklearn.tree import DecisionTreeClassifier\n",
    "from sklearn.ensemble import RandomForestClassifier, GradientBoostingClassifier, ExtraTreesClassifier\n",
    "from sklearn.neighbors import KNeighborsClassifier"
   ]
  },
  {
   "cell_type": "markdown",
   "metadata": {},
   "source": [
    "## Understand Data"
   ]
  },
  {
   "cell_type": "code",
   "execution_count": 2,
   "metadata": {},
   "outputs": [
    {
     "data": {
      "text/html": [
       "<div>\n",
       "<style scoped>\n",
       "    .dataframe tbody tr th:only-of-type {\n",
       "        vertical-align: middle;\n",
       "    }\n",
       "\n",
       "    .dataframe tbody tr th {\n",
       "        vertical-align: top;\n",
       "    }\n",
       "\n",
       "    .dataframe thead th {\n",
       "        text-align: right;\n",
       "    }\n",
       "</style>\n",
       "<table border=\"1\" class=\"dataframe\">\n",
       "  <thead>\n",
       "    <tr style=\"text-align: right;\">\n",
       "      <th></th>\n",
       "      <th>customerID</th>\n",
       "      <th>gender</th>\n",
       "      <th>SeniorCitizen</th>\n",
       "      <th>Partner</th>\n",
       "      <th>Dependents</th>\n",
       "      <th>tenure</th>\n",
       "      <th>PhoneService</th>\n",
       "      <th>MultipleLines</th>\n",
       "      <th>InternetService</th>\n",
       "      <th>OnlineSecurity</th>\n",
       "      <th>...</th>\n",
       "      <th>DeviceProtection</th>\n",
       "      <th>TechSupport</th>\n",
       "      <th>StreamingTV</th>\n",
       "      <th>StreamingMovies</th>\n",
       "      <th>Contract</th>\n",
       "      <th>PaperlessBilling</th>\n",
       "      <th>PaymentMethod</th>\n",
       "      <th>MonthlyCharges</th>\n",
       "      <th>TotalCharges</th>\n",
       "      <th>Churn</th>\n",
       "    </tr>\n",
       "  </thead>\n",
       "  <tbody>\n",
       "    <tr>\n",
       "      <th>0</th>\n",
       "      <td>7590-VHVEG</td>\n",
       "      <td>Female</td>\n",
       "      <td>0</td>\n",
       "      <td>Yes</td>\n",
       "      <td>No</td>\n",
       "      <td>1</td>\n",
       "      <td>No</td>\n",
       "      <td>No phone service</td>\n",
       "      <td>DSL</td>\n",
       "      <td>No</td>\n",
       "      <td>...</td>\n",
       "      <td>No</td>\n",
       "      <td>No</td>\n",
       "      <td>No</td>\n",
       "      <td>No</td>\n",
       "      <td>Month-to-month</td>\n",
       "      <td>Yes</td>\n",
       "      <td>Electronic check</td>\n",
       "      <td>29.85</td>\n",
       "      <td>29.85</td>\n",
       "      <td>No</td>\n",
       "    </tr>\n",
       "    <tr>\n",
       "      <th>1</th>\n",
       "      <td>5575-GNVDE</td>\n",
       "      <td>Male</td>\n",
       "      <td>0</td>\n",
       "      <td>No</td>\n",
       "      <td>No</td>\n",
       "      <td>34</td>\n",
       "      <td>Yes</td>\n",
       "      <td>No</td>\n",
       "      <td>DSL</td>\n",
       "      <td>Yes</td>\n",
       "      <td>...</td>\n",
       "      <td>Yes</td>\n",
       "      <td>No</td>\n",
       "      <td>No</td>\n",
       "      <td>No</td>\n",
       "      <td>One year</td>\n",
       "      <td>No</td>\n",
       "      <td>Mailed check</td>\n",
       "      <td>56.95</td>\n",
       "      <td>1889.5</td>\n",
       "      <td>No</td>\n",
       "    </tr>\n",
       "    <tr>\n",
       "      <th>2</th>\n",
       "      <td>3668-QPYBK</td>\n",
       "      <td>Male</td>\n",
       "      <td>0</td>\n",
       "      <td>No</td>\n",
       "      <td>No</td>\n",
       "      <td>2</td>\n",
       "      <td>Yes</td>\n",
       "      <td>No</td>\n",
       "      <td>DSL</td>\n",
       "      <td>Yes</td>\n",
       "      <td>...</td>\n",
       "      <td>No</td>\n",
       "      <td>No</td>\n",
       "      <td>No</td>\n",
       "      <td>No</td>\n",
       "      <td>Month-to-month</td>\n",
       "      <td>Yes</td>\n",
       "      <td>Mailed check</td>\n",
       "      <td>53.85</td>\n",
       "      <td>108.15</td>\n",
       "      <td>Yes</td>\n",
       "    </tr>\n",
       "    <tr>\n",
       "      <th>3</th>\n",
       "      <td>7795-CFOCW</td>\n",
       "      <td>Male</td>\n",
       "      <td>0</td>\n",
       "      <td>No</td>\n",
       "      <td>No</td>\n",
       "      <td>45</td>\n",
       "      <td>No</td>\n",
       "      <td>No phone service</td>\n",
       "      <td>DSL</td>\n",
       "      <td>Yes</td>\n",
       "      <td>...</td>\n",
       "      <td>Yes</td>\n",
       "      <td>Yes</td>\n",
       "      <td>No</td>\n",
       "      <td>No</td>\n",
       "      <td>One year</td>\n",
       "      <td>No</td>\n",
       "      <td>Bank transfer (automatic)</td>\n",
       "      <td>42.30</td>\n",
       "      <td>1840.75</td>\n",
       "      <td>No</td>\n",
       "    </tr>\n",
       "    <tr>\n",
       "      <th>4</th>\n",
       "      <td>9237-HQITU</td>\n",
       "      <td>Female</td>\n",
       "      <td>0</td>\n",
       "      <td>No</td>\n",
       "      <td>No</td>\n",
       "      <td>2</td>\n",
       "      <td>Yes</td>\n",
       "      <td>No</td>\n",
       "      <td>Fiber optic</td>\n",
       "      <td>No</td>\n",
       "      <td>...</td>\n",
       "      <td>No</td>\n",
       "      <td>No</td>\n",
       "      <td>No</td>\n",
       "      <td>No</td>\n",
       "      <td>Month-to-month</td>\n",
       "      <td>Yes</td>\n",
       "      <td>Electronic check</td>\n",
       "      <td>70.70</td>\n",
       "      <td>151.65</td>\n",
       "      <td>Yes</td>\n",
       "    </tr>\n",
       "  </tbody>\n",
       "</table>\n",
       "<p>5 rows × 21 columns</p>\n",
       "</div>"
      ],
      "text/plain": [
       "   customerID  gender  SeniorCitizen Partner Dependents  tenure PhoneService  \\\n",
       "0  7590-VHVEG  Female              0     Yes         No       1           No   \n",
       "1  5575-GNVDE    Male              0      No         No      34          Yes   \n",
       "2  3668-QPYBK    Male              0      No         No       2          Yes   \n",
       "3  7795-CFOCW    Male              0      No         No      45           No   \n",
       "4  9237-HQITU  Female              0      No         No       2          Yes   \n",
       "\n",
       "      MultipleLines InternetService OnlineSecurity  ... DeviceProtection  \\\n",
       "0  No phone service             DSL             No  ...               No   \n",
       "1                No             DSL            Yes  ...              Yes   \n",
       "2                No             DSL            Yes  ...               No   \n",
       "3  No phone service             DSL            Yes  ...              Yes   \n",
       "4                No     Fiber optic             No  ...               No   \n",
       "\n",
       "  TechSupport StreamingTV StreamingMovies        Contract PaperlessBilling  \\\n",
       "0          No          No              No  Month-to-month              Yes   \n",
       "1          No          No              No        One year               No   \n",
       "2          No          No              No  Month-to-month              Yes   \n",
       "3         Yes          No              No        One year               No   \n",
       "4          No          No              No  Month-to-month              Yes   \n",
       "\n",
       "               PaymentMethod MonthlyCharges  TotalCharges Churn  \n",
       "0           Electronic check          29.85         29.85    No  \n",
       "1               Mailed check          56.95        1889.5    No  \n",
       "2               Mailed check          53.85        108.15   Yes  \n",
       "3  Bank transfer (automatic)          42.30       1840.75    No  \n",
       "4           Electronic check          70.70        151.65   Yes  \n",
       "\n",
       "[5 rows x 21 columns]"
      ]
     },
     "execution_count": 2,
     "metadata": {},
     "output_type": "execute_result"
    }
   ],
   "source": [
    "churn_data = pd.read_csv(\"./data/WA_Fn-UseC_-Telco-Customer-Churn.csv\")\n",
    "churn_data.head()"
   ]
  },
  {
   "cell_type": "code",
   "execution_count": 3,
   "metadata": {},
   "outputs": [
    {
     "name": "stdout",
     "output_type": "stream",
     "text": [
      "<class 'pandas.core.frame.DataFrame'>\n",
      "RangeIndex: 7043 entries, 0 to 7042\n",
      "Data columns (total 21 columns):\n",
      " #   Column            Non-Null Count  Dtype  \n",
      "---  ------            --------------  -----  \n",
      " 0   customerID        7043 non-null   object \n",
      " 1   gender            7043 non-null   object \n",
      " 2   SeniorCitizen     7043 non-null   int64  \n",
      " 3   Partner           7043 non-null   object \n",
      " 4   Dependents        7043 non-null   object \n",
      " 5   tenure            7043 non-null   int64  \n",
      " 6   PhoneService      7043 non-null   object \n",
      " 7   MultipleLines     7043 non-null   object \n",
      " 8   InternetService   7043 non-null   object \n",
      " 9   OnlineSecurity    7043 non-null   object \n",
      " 10  OnlineBackup      7043 non-null   object \n",
      " 11  DeviceProtection  7043 non-null   object \n",
      " 12  TechSupport       7043 non-null   object \n",
      " 13  StreamingTV       7043 non-null   object \n",
      " 14  StreamingMovies   7043 non-null   object \n",
      " 15  Contract          7043 non-null   object \n",
      " 16  PaperlessBilling  7043 non-null   object \n",
      " 17  PaymentMethod     7043 non-null   object \n",
      " 18  MonthlyCharges    7043 non-null   float64\n",
      " 19  TotalCharges      7043 non-null   object \n",
      " 20  Churn             7043 non-null   object \n",
      "dtypes: float64(1), int64(2), object(18)\n",
      "memory usage: 1.1+ MB\n"
     ]
    }
   ],
   "source": [
    "churn_data.info()"
   ]
  },
  {
   "cell_type": "code",
   "execution_count": 4,
   "metadata": {},
   "outputs": [
    {
     "name": "stdout",
     "output_type": "stream",
     "text": [
      "customerID: 7043\n",
      "gender: 2\n",
      "SeniorCitizen: 2\n",
      "Partner: 2\n",
      "Dependents: 2\n",
      "tenure: 73\n",
      "PhoneService: 2\n",
      "MultipleLines: 3\n",
      "InternetService: 3\n",
      "OnlineSecurity: 3\n",
      "OnlineBackup: 3\n",
      "DeviceProtection: 3\n",
      "TechSupport: 3\n",
      "StreamingTV: 3\n",
      "StreamingMovies: 3\n",
      "Contract: 3\n",
      "PaperlessBilling: 2\n",
      "PaymentMethod: 4\n",
      "MonthlyCharges: 1585\n",
      "TotalCharges: 6531\n",
      "Churn: 2\n"
     ]
    }
   ],
   "source": [
    "for column in churn_data.columns:\n",
    "    print(f\"{column}: {churn_data[column].nunique()}\")"
   ]
  },
  {
   "cell_type": "code",
   "execution_count": 5,
   "metadata": {},
   "outputs": [
    {
     "data": {
      "text/plain": [
       "array([0, 1])"
      ]
     },
     "execution_count": 5,
     "metadata": {},
     "output_type": "execute_result"
    }
   ],
   "source": [
    "# although senior citizen is int but sems categorical given only 2 unique values\n",
    "churn_data['SeniorCitizen'].unique()"
   ]
  },
  {
   "cell_type": "markdown",
   "metadata": {},
   "source": [
    "- 1 means senior cetizen and 0 means no\n"
   ]
  },
  {
   "cell_type": "markdown",
   "metadata": {},
   "source": [
    "### Removing high Cardinal column"
   ]
  },
  {
   "cell_type": "code",
   "execution_count": 6,
   "metadata": {},
   "outputs": [],
   "source": [
    "# we can drop CustomerID column since it has high cardinality\n",
    "churn_data.drop(['customerID'], axis=1, inplace=True)"
   ]
  },
  {
   "cell_type": "code",
   "execution_count": 7,
   "metadata": {},
   "outputs": [
    {
     "name": "stdout",
     "output_type": "stream",
     "text": [
      "<class 'pandas.core.frame.DataFrame'>\n",
      "RangeIndex: 7043 entries, 0 to 7042\n",
      "Data columns (total 20 columns):\n",
      " #   Column            Non-Null Count  Dtype  \n",
      "---  ------            --------------  -----  \n",
      " 0   gender            7043 non-null   object \n",
      " 1   SeniorCitizen     7043 non-null   int64  \n",
      " 2   Partner           7043 non-null   object \n",
      " 3   Dependents        7043 non-null   object \n",
      " 4   tenure            7043 non-null   int64  \n",
      " 5   PhoneService      7043 non-null   object \n",
      " 6   MultipleLines     7043 non-null   object \n",
      " 7   InternetService   7043 non-null   object \n",
      " 8   OnlineSecurity    7043 non-null   object \n",
      " 9   OnlineBackup      7043 non-null   object \n",
      " 10  DeviceProtection  7043 non-null   object \n",
      " 11  TechSupport       7043 non-null   object \n",
      " 12  StreamingTV       7043 non-null   object \n",
      " 13  StreamingMovies   7043 non-null   object \n",
      " 14  Contract          7043 non-null   object \n",
      " 15  PaperlessBilling  7043 non-null   object \n",
      " 16  PaymentMethod     7043 non-null   object \n",
      " 17  MonthlyCharges    7043 non-null   float64\n",
      " 18  TotalCharges      7043 non-null   object \n",
      " 19  Churn             7043 non-null   object \n",
      "dtypes: float64(1), int64(2), object(17)\n",
      "memory usage: 1.1+ MB\n"
     ]
    }
   ],
   "source": [
    "churn_data.info()"
   ]
  },
  {
   "cell_type": "code",
   "execution_count": 8,
   "metadata": {},
   "outputs": [],
   "source": [
    "# convert into float since total charges is numerical column\n",
    "# churn_data['TotalCharges'] = churn_data['TotalCharges'].astype(float) --- Since this is giving an error because there are sting in that column\n",
    "\n",
    "churn_data['TotalCharges'] = churn_data['TotalCharges'].replace(' ', np.nan, regex=True)\n",
    "churn_data['TotalCharges'] = churn_data['TotalCharges'].astype(float)"
   ]
  },
  {
   "cell_type": "code",
   "execution_count": 9,
   "metadata": {},
   "outputs": [
    {
     "data": {
      "text/html": [
       "<div>\n",
       "<style scoped>\n",
       "    .dataframe tbody tr th:only-of-type {\n",
       "        vertical-align: middle;\n",
       "    }\n",
       "\n",
       "    .dataframe tbody tr th {\n",
       "        vertical-align: top;\n",
       "    }\n",
       "\n",
       "    .dataframe thead th {\n",
       "        text-align: right;\n",
       "    }\n",
       "</style>\n",
       "<table border=\"1\" class=\"dataframe\">\n",
       "  <thead>\n",
       "    <tr style=\"text-align: right;\">\n",
       "      <th></th>\n",
       "      <th>count</th>\n",
       "      <th>mean</th>\n",
       "      <th>std</th>\n",
       "      <th>min</th>\n",
       "      <th>25%</th>\n",
       "      <th>50%</th>\n",
       "      <th>75%</th>\n",
       "      <th>max</th>\n",
       "    </tr>\n",
       "  </thead>\n",
       "  <tbody>\n",
       "    <tr>\n",
       "      <th>SeniorCitizen</th>\n",
       "      <td>7043.0</td>\n",
       "      <td>0.162147</td>\n",
       "      <td>0.368612</td>\n",
       "      <td>0.00</td>\n",
       "      <td>0.00</td>\n",
       "      <td>0.000</td>\n",
       "      <td>0.0000</td>\n",
       "      <td>1.00</td>\n",
       "    </tr>\n",
       "    <tr>\n",
       "      <th>tenure</th>\n",
       "      <td>7043.0</td>\n",
       "      <td>32.371149</td>\n",
       "      <td>24.559481</td>\n",
       "      <td>0.00</td>\n",
       "      <td>9.00</td>\n",
       "      <td>29.000</td>\n",
       "      <td>55.0000</td>\n",
       "      <td>72.00</td>\n",
       "    </tr>\n",
       "    <tr>\n",
       "      <th>MonthlyCharges</th>\n",
       "      <td>7043.0</td>\n",
       "      <td>64.761692</td>\n",
       "      <td>30.090047</td>\n",
       "      <td>18.25</td>\n",
       "      <td>35.50</td>\n",
       "      <td>70.350</td>\n",
       "      <td>89.8500</td>\n",
       "      <td>118.75</td>\n",
       "    </tr>\n",
       "    <tr>\n",
       "      <th>TotalCharges</th>\n",
       "      <td>7032.0</td>\n",
       "      <td>2283.300441</td>\n",
       "      <td>2266.771362</td>\n",
       "      <td>18.80</td>\n",
       "      <td>401.45</td>\n",
       "      <td>1397.475</td>\n",
       "      <td>3794.7375</td>\n",
       "      <td>8684.80</td>\n",
       "    </tr>\n",
       "  </tbody>\n",
       "</table>\n",
       "</div>"
      ],
      "text/plain": [
       "                 count         mean          std    min     25%       50%  \\\n",
       "SeniorCitizen   7043.0     0.162147     0.368612   0.00    0.00     0.000   \n",
       "tenure          7043.0    32.371149    24.559481   0.00    9.00    29.000   \n",
       "MonthlyCharges  7043.0    64.761692    30.090047  18.25   35.50    70.350   \n",
       "TotalCharges    7032.0  2283.300441  2266.771362  18.80  401.45  1397.475   \n",
       "\n",
       "                      75%      max  \n",
       "SeniorCitizen      0.0000     1.00  \n",
       "tenure            55.0000    72.00  \n",
       "MonthlyCharges    89.8500   118.75  \n",
       "TotalCharges    3794.7375  8684.80  "
      ]
     },
     "execution_count": 9,
     "metadata": {},
     "output_type": "execute_result"
    }
   ],
   "source": [
    "churn_data.describe().T"
   ]
  },
  {
   "cell_type": "code",
   "execution_count": 10,
   "metadata": {},
   "outputs": [
    {
     "data": {
      "text/plain": [
       "<Axes: xlabel='SeniorCitizen', ylabel='count'>"
      ]
     },
     "execution_count": 10,
     "metadata": {},
     "output_type": "execute_result"
    },
    {
     "data": {
      "image/png": "[encoded data removed]",
      "text/plain": [
       "<Figure size 640x480 with 1 Axes>"
      ]
     },
     "metadata": {},
     "output_type": "display_data"
    }
   ],
   "source": [
    "# there is lot more imbalance in senior citizen\n",
    "sns.countplot(x = \"SeniorCitizen\", data = churn_data)"
   ]
  },
  {
   "cell_type": "markdown",
   "metadata": {},
   "source": [
    "### Missing value treatment"
   ]
  },
  {
   "cell_type": "code",
   "execution_count": 11,
   "metadata": {},
   "outputs": [
    {
     "data": {
      "text/plain": [
       "gender               0\n",
       "SeniorCitizen        0\n",
       "Partner              0\n",
       "Dependents           0\n",
       "tenure               0\n",
       "PhoneService         0\n",
       "MultipleLines        0\n",
       "InternetService      0\n",
       "OnlineSecurity       0\n",
       "OnlineBackup         0\n",
       "DeviceProtection     0\n",
       "TechSupport          0\n",
       "StreamingTV          0\n",
       "StreamingMovies      0\n",
       "Contract             0\n",
       "PaperlessBilling     0\n",
       "PaymentMethod        0\n",
       "MonthlyCharges       0\n",
       "TotalCharges        11\n",
       "Churn                0\n",
       "dtype: int64"
      ]
     },
     "execution_count": 11,
     "metadata": {},
     "output_type": "execute_result"
    }
   ],
   "source": [
    "churn_data.isnull().sum()"
   ]
  },
  {
   "cell_type": "code",
   "execution_count": 12,
   "metadata": {},
   "outputs": [],
   "source": [
    "knn_imputer = KNNImputer(n_neighbors=3)\n",
    "churn_data[['TotalCharges']] = knn_imputer.fit_transform(churn_data[['TotalCharges']])"
   ]
  },
  {
   "cell_type": "code",
   "execution_count": 13,
   "metadata": {},
   "outputs": [
    {
     "data": {
      "text/plain": [
       "gender              0\n",
       "SeniorCitizen       0\n",
       "Partner             0\n",
       "Dependents          0\n",
       "tenure              0\n",
       "PhoneService        0\n",
       "MultipleLines       0\n",
       "InternetService     0\n",
       "OnlineSecurity      0\n",
       "OnlineBackup        0\n",
       "DeviceProtection    0\n",
       "TechSupport         0\n",
       "StreamingTV         0\n",
       "StreamingMovies     0\n",
       "Contract            0\n",
       "PaperlessBilling    0\n",
       "PaymentMethod       0\n",
       "MonthlyCharges      0\n",
       "TotalCharges        0\n",
       "Churn               0\n",
       "dtype: int64"
      ]
     },
     "execution_count": 13,
     "metadata": {},
     "output_type": "execute_result"
    }
   ],
   "source": [
    "churn_data.isnull().sum()"
   ]
  },
  {
   "cell_type": "code",
   "execution_count": 14,
   "metadata": {},
   "outputs": [
    {
     "data": {
      "text/plain": [
       "<Axes: xlabel='Churn', ylabel='count'>"
      ]
     },
     "execution_count": 14,
     "metadata": {},
     "output_type": "execute_result"
    },
    {
     "data": {
      "image/png": "[encoded data removed]",
      "text/plain": [
       "<Figure size 640x480 with 1 Axes>"
      ]
     },
     "metadata": {},
     "output_type": "display_data"
    }
   ],
   "source": [
    "sns.countplot(x = \"Churn\", data = churn_data)"
   ]
  },
  {
   "cell_type": "code",
   "execution_count": 15,
   "metadata": {},
   "outputs": [
    {
     "data": {
      "image/png": "[encoded data removed]",
      "text/plain": [
       "<Figure size 2000x800 with 6 Axes>"
      ]
     },
     "metadata": {},
     "output_type": "display_data"
    }
   ],
   "source": [
    "numeric_feature = ['tenure', 'MonthlyCharges', 'TotalCharges']\n",
    "churn_data[numeric_feature].plot(kind='density', subplots=True, layout=(2,3), sharex=False, figsize= (20,8))\n",
    "plt.show()"
   ]
  },
  {
   "cell_type": "markdown",
   "metadata": {},
   "source": [
    "### Check for outliers"
   ]
  },
  {
   "cell_type": "code",
   "execution_count": 16,
   "metadata": {},
   "outputs": [
    {
     "data": {
      "text/plain": [
       "<Axes: >"
      ]
     },
     "execution_count": 16,
     "metadata": {},
     "output_type": "execute_result"
    },
    {
     "data": {
      "image/png": "[encoded data removed]",
      "text/plain": [
       "<Figure size 640x480 with 1 Axes>"
      ]
     },
     "metadata": {},
     "output_type": "display_data"
    }
   ],
   "source": [
    "sns.boxplot(data=churn_data)"
   ]
  },
  {
   "cell_type": "code",
   "execution_count": 17,
   "metadata": {},
   "outputs": [
    {
     "data": {
      "application/vnd.plotly.v1+json": {
       "config": {
        "plotlyServerURL": "https://plot.ly"
       },
       "data": [
        {
         "alignmentgroup": "True",
         "hovertemplate": "tenure=%{y}<extra></extra>",
         "legendgroup": "",
         "marker": {
          "color": "#636efa"
         },
         "name": "",
         "notched": false,
         "offsetgroup": "",
         "orientation": "v",
         "showlegend": false,
         "type": "box",
         "x0": " ",
         "xaxis": "x",
         "y": {
          "bdata": "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",
          "dtype": "i1"
         },
         "y0": " ",
         "yaxis": "y"
        }
       ],
       "layout": {
        "boxmode": "group",
        "legend": {
         "tracegroupgap": 0
        },
        "template": {
         "data": {
          "bar": [
           {
            "error_x": {
             "color": "#2a3f5f"
            },
            "error_y": {
             "color": "#2a3f5f"
            },
            "marker": {
             "line": {
              "color": "#E5ECF6",
              "width": 0.5
             },
             "pattern": {
              "fillmode": "overlay",
              "size": 10,
              "solidity": 0.2
             }
            },
            "type": "bar"
           }
          ],
          "barpolar": [
           {
            "marker": {
             "line": {
              "color": "#E5ECF6",
              "width": 0.5
             },
             "pattern": {
              "fillmode": "overlay",
              "size": 10,
              "solidity": 0.2
             }
            },
            "type": "barpolar"
           }
          ],
          "carpet": [
           {
            "aaxis": {
             "endlinecolor": "#2a3f5f",
             "gridcolor": "white",
             "linecolor": "white",
             "minorgridcolor": "white",
             "startlinecolor": "#2a3f5f"
            },
            "baxis": {
             "endlinecolor": "#2a3f5f",
             "gridcolor": "white",
             "linecolor": "white",
             "minorgridcolor": "white",
             "startlinecolor": "#2a3f5f"
            },
            "type": "carpet"
           }
          ],
          "choropleth": [
           {
            "colorbar": {
             "outlinewidth": 0,
             "ticks": ""
            },
            "type": "choropleth"
           }
          ],
          "contour": [
           {
            "colorbar": {
             "outlinewidth": 0,
             "ticks": ""
            },
            "colorscale": [
             [
              0,
              "#0d0887"
             ],
             [
              0.1111111111111111,
              "#46039f"
             ],
             [
              0.2222222222222222,
              "#7201a8"
             ],
             [
              0.3333333333333333,
              "#9c179e"
             ],
             [
              0.4444444444444444,
              "#bd3786"
             ],
             [
              0.5555555555555556,
              "#d8576b"
             ],
             [
              0.6666666666666666,
              "#ed7953"
             ],
             [
              0.7777777777777778,
              "#fb9f3a"
             ],
             [
              0.8888888888888888,
              "#fdca26"
             ],
             [
              1,
              "#f0f921"
             ]
            ],
            "type": "contour"
           }
          ],
          "contourcarpet": [
           {
            "colorbar": {
             "outlinewidth": 0,
             "ticks": ""
            },
            "type": "contourcarpet"
           }
          ],
          "heatmap": [
           {
            "colorbar": {
             "outlinewidth": 0,
             "ticks": ""
            },
            "colorscale": [
             [
              0,
              "#0d0887"
             ],
             [
              0.1111111111111111,
              "#46039f"
             ],
             [
              0.2222222222222222,
              "#7201a8"
             ],
             [
              0.3333333333333333,
              "#9c179e"
             ],
             [
              0.4444444444444444,
              "#bd3786"
             ],
             [
              0.5555555555555556,
              "#d8576b"
             ],
             [
              0.6666666666666666,
              "#ed7953"
             ],
             [
              0.7777777777777778,
              "#fb9f3a"
             ],
             [
              0.8888888888888888,
              "#fdca26"
             ],
             [
              1,
              "#f0f921"
             ]
            ],
            "type": "heatmap"
           }
          ],
          "histogram": [
           {
            "marker": {
             "pattern": {
              "fillmode": "overlay",
              "size": 10,
              "solidity": 0.2
             }
            },
            "type": "histogram"
           }
          ],
          "histogram2d": [
           {
            "colorbar": {
             "outlinewidth": 0,
             "ticks": ""
            },
            "colorscale": [
             [
              0,
              "#0d0887"
             ],
             [
              0.1111111111111111,
              "#46039f"
             ],
             [
              0.2222222222222222,
              "#7201a8"
             ],
             [
              0.3333333333333333,
              "#9c179e"
             ],
             [
              0.4444444444444444,
              "#bd3786"
             ],
             [
              0.5555555555555556,
              "#d8576b"
             ],
             [
              0.6666666666666666,
              "#ed7953"
             ],
             [
              0.7777777777777778,
              "#fb9f3a"
             ],
             [
              0.8888888888888888,
              "#fdca26"
             ],
             [
              1,
              "#f0f921"
             ]
            ],
            "type": "histogram2d"
           }
          ],
          "histogram2dcontour": [
           {
            "colorbar": {
             "outlinewidth": 0,
             "ticks": ""
            },
            "colorscale": [
             [
              0,
              "#0d0887"
             ],
             [
              0.1111111111111111,
              "#46039f"
             ],
             [
              0.2222222222222222,
              "#7201a8"
             ],
             [
              0.3333333333333333,
              "#9c179e"
             ],
             [
              0.4444444444444444,
              "#bd3786"
             ],
             [
              0.5555555555555556,
              "#d8576b"
             ],
             [
              0.6666666666666666,
              "#ed7953"
             ],
             [
              0.7777777777777778,
              "#fb9f3a"
             ],
             [
              0.8888888888888888,
              "#fdca26"
             ],
             [
              1,
              "#f0f921"
             ]
            ],
            "type": "histogram2dcontour"
           }
          ],
          "mesh3d": [
           {
            "colorbar": {
             "outlinewidth": 0,
             "ticks": ""
            },
            "type": "mesh3d"
           }
          ],
          "parcoords": [
           {
            "line": {
             "colorbar": {
              "outlinewidth": 0,
              "ticks": ""
             }
            },
            "type": "parcoords"
           }
          ],
          "pie": [
           {
            "automargin": true,
            "type": "pie"
           }
          ],
          "scatter": [
           {
            "fillpattern": {
             "fillmode": "overlay",
             "size": 10,
             "solidity": 0.2
            },
            "type": "scatter"
           }
          ],
          "scatter3d": [
           {
            "line": {
             "colorbar": {
              "outlinewidth": 0,
              "ticks": ""
             }
            },
            "marker": {
             "colorbar": {
              "outlinewidth": 0,
              "ticks": ""
             }
            },
            "type": "scatter3d"
           }
          ],
          "scattercarpet": [
           {
            "marker": {
             "colorbar": {
              "outlinewidth": 0,
              "ticks": ""
             }
            },
            "type": "scattercarpet"
           }
          ],
          "scattergeo": [
           {
            "marker": {
             "colorbar": {
              "outlinewidth": 0,
              "ticks": ""
             }
            },
            "type": "scattergeo"
           }
          ],
          "scattergl": [
           {
            "marker": {
             "colorbar": {
              "outlinewidth": 0,
              "ticks": ""
             }
            },
            "type": "scattergl"
           }
          ],
          "scattermap": [
           {
            "marker": {
             "colorbar": {
              "outlinewidth": 0,
              "ticks": ""
             }
            },
            "type": "scattermap"
           }
          ],
          "scattermapbox": [
           {
            "marker": {
             "colorbar": {
              "outlinewidth": 0,
              "ticks": ""
             }
            },
            "type": "scattermapbox"
           }
          ],
          "scatterpolar": [
           {
            "marker": {
             "colorbar": {
              "outlinewidth": 0,
              "ticks": ""
             }
            },
            "type": "scatterpolar"
           }
          ],
          "scatterpolargl": [
           {
            "marker": {
             "colorbar": {
              "outlinewidth": 0,
              "ticks": ""
             }
            },
            "type": "scatterpolargl"
           }
          ],
          "scatterternary": [
           {
            "marker": {
             "colorbar": {
              "outlinewidth": 0,
              "ticks": ""
             }
            },
            "type": "scatterternary"
           }
          ],
          "surface": [
           {
            "colorbar": {
             "outlinewidth": 0,
             "ticks": ""
            },
            "colorscale": [
             [
              0,
              "#0d0887"
             ],
             [
              0.1111111111111111,
              "#46039f"
             ],
             [
              0.2222222222222222,
              "#7201a8"
             ],
             [
              0.3333333333333333,
              "#9c179e"
             ],
             [
              0.4444444444444444,
              "#bd3786"
             ],
             [
              0.5555555555555556,
              "#d8576b"
             ],
             [
              0.6666666666666666,
              "#ed7953"
             ],
             [
              0.7777777777777778,
              "#fb9f3a"
             ],
             [
              0.8888888888888888,
              "#fdca26"
             ],
             [
              1,
              "#f0f921"
             ]
            ],
            "type": "surface"
           }
          ],
          "table": [
           {
            "cells": {
             "fill": {
              "color": "#EBF0F8"
             },
             "line": {
              "color": "white"
             }
            },
            "header": {
             "fill": {
              "color": "#C8D4E3"
             },
             "line": {
              "color": "white"
             }
            },
            "type": "table"
           }
          ]
         },
         "layout": {
          "annotationdefaults": {
           "arrowcolor": "#2a3f5f",
           "arrowhead": 0,
           "arrowwidth": 1
          },
          "autotypenumbers": "strict",
          "coloraxis": {
           "colorbar": {
            "outlinewidth": 0,
            "ticks": ""
           }
          },
          "colorscale": {
           "diverging": [
            [
             0,
             "#8e0152"
            ],
            [
             0.1,
             "#c51b7d"
            ],
            [
             0.2,
             "#de77ae"
            ],
            [
             0.3,
             "#f1b6da"
            ],
            [
             0.4,
             "#fde0ef"
            ],
            [
             0.5,
             "#f7f7f7"
            ],
            [
             0.6,
             "#e6f5d0"
            ],
            [
             0.7,
             "#b8e186"
            ],
            [
             0.8,
             "#7fbc41"
            ],
            [
             0.9,
             "#4d9221"
            ],
            [
             1,
             "#276419"
            ]
           ],
           "sequential": [
            [
             0,
             "#0d0887"
            ],
            [
             0.1111111111111111,
             "#46039f"
            ],
            [
             0.2222222222222222,
             "#7201a8"
            ],
            [
             0.3333333333333333,
             "#9c179e"
            ],
            [
             0.4444444444444444,
             "#bd3786"
            ],
            [
             0.5555555555555556,
             "#d8576b"
            ],
            [
             0.6666666666666666,
             "#ed7953"
            ],
            [
             0.7777777777777778,
             "#fb9f3a"
            ],
            [
             0.8888888888888888,
             "#fdca26"
            ],
            [
             1,
             "#f0f921"
            ]
           ],
           "sequentialminus": [
            [
             0,
             "#0d0887"
            ],
            [
             0.1111111111111111,
             "#46039f"
            ],
            [
             0.2222222222222222,
             "#7201a8"
            ],
            [
             0.3333333333333333,
             "#9c179e"
            ],
            [
             0.4444444444444444,
             "#bd3786"
            ],
            [
             0.5555555555555556,
             "#d8576b"
            ],
            [
             0.6666666666666666,
             "#ed7953"
            ],
            [
             0.7777777777777778,
             "#fb9f3a"
            ],
            [
             0.8888888888888888,
             "#fdca26"
            ],
            [
             1,
             "#f0f921"
            ]
           ]
          },
          "colorway": [
           "#636efa",
           "#EF553B",
           "#00cc96",
           "#ab63fa",
           "#FFA15A",
           "#19d3f3",
           "#FF6692",
           "#B6E880",
           "#FF97FF",
           "#FECB52"
          ],
          "font": {
           "color": "#2a3f5f"
          },
          "geo": {
           "bgcolor": "white",
           "lakecolor": "white",
           "landcolor": "#E5ECF6",
           "showlakes": true,
           "showland": true,
           "subunitcolor": "white"
          },
          "hoverlabel": {
           "align": "left"
          },
          "hovermode": "closest",
          "mapbox": {
           "style": "light"
          },
          "paper_bgcolor": "white",
          "plot_bgcolor": "#E5ECF6",
          "polar": {
           "angularaxis": {
            "gridcolor": "white",
            "linecolor": "white",
            "ticks": ""
           },
           "bgcolor": "#E5ECF6",
           "radialaxis": {
            "gridcolor": "white",
            "linecolor": "white",
            "ticks": ""
           }
          },
          "scene": {
           "xaxis": {
            "backgroundcolor": "#E5ECF6",
            "gridcolor": "white",
            "gridwidth": 2,
            "linecolor": "white",
            "showbackground": true,
            "ticks": "",
            "zerolinecolor": "white"
           },
           "yaxis": {
            "backgroundcolor": "#E5ECF6",
            "gridcolor": "white",
            "gridwidth": 2,
            "linecolor": "white",
            "showbackground": true,
            "ticks": "",
            "zerolinecolor": "white"
           },
           "zaxis": {
            "backgroundcolor": "#E5ECF6",
            "gridcolor": "white",
            "gridwidth": 2,
            "linecolor": "white",
            "showbackground": true,
            "ticks": "",
            "zerolinecolor": "white"
           }
          },
          "shapedefaults": {
           "line": {
            "color": "#2a3f5f"
           }
          },
          "ternary": {
           "aaxis": {
            "gridcolor": "white",
            "linecolor": "white",
            "ticks": ""
           },
           "baxis": {
            "gridcolor": "white",
            "linecolor": "white",
            "ticks": ""
           },
           "bgcolor": "#E5ECF6",
           "caxis": {
            "gridcolor": "white",
            "linecolor": "white",
            "ticks": ""
           }
          },
          "title": {
           "x": 0.05
          },
          "xaxis": {
           "automargin": true,
           "gridcolor": "white",
           "linecolor": "white",
           "ticks": "",
           "title": {
            "standoff": 15
           },
           "zerolinecolor": "white",
           "zerolinewidth": 2
          },
          "yaxis": {
           "automargin": true,
           "gridcolor": "white",
           "linecolor": "white",
           "ticks": "",
           "title": {
            "standoff": 15
           },
           "zerolinecolor": "white",
           "zerolinewidth": 2
          }
         }
        },
        "title": {
         "text": "Box Plot for tenure"
        },
        "xaxis": {
         "anchor": "y",
         "domain": [
          0,
          1
         ]
        },
        "yaxis": {
         "anchor": "x",
         "domain": [
          0,
          1
         ],
         "title": {
          "text": "tenure"
         }
        }
       }
      }
     },
     "metadata": {},
     "output_type": "display_data"
    },
    {
     "data": {
      "application/vnd.plotly.v1+json": {
       "config": {
        "plotlyServerURL": "https://plot.ly"
       },
       "data": [
        {
         "alignmentgroup": "True",
         "hovertemplate": "MonthlyCharges=%{y}<extra></extra>",
         "legendgroup": "",
         "marker": {
          "color": "#636efa"
         },
         "name": "",
         "notched": false,
         "offsetgroup": "",
         "orientation": "v",
         "showlegend": false,
         "type": "box",
         "x0": " ",
         "xaxis": "x",
         "y": {
          "bdata": "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",
          "dtype": "f8"
         },
         "y0": " ",
         "yaxis": "y"
        }
       ],
       "layout": {
        "boxmode": "group",
        "legend": {
         "tracegroupgap": 0
        },
        "template": {
         "data": {
          "bar": [
           {
            "error_x": {
             "color": "#2a3f5f"
            },
            "error_y": {
             "color": "#2a3f5f"
            },
            "marker": {
             "line": {
              "color": "#E5ECF6",
              "width": 0.5
             },
             "pattern": {
              "fillmode": "overlay",
              "size": 10,
              "solidity": 0.2
             }
            },
            "type": "bar"
           }
          ],
          "barpolar": [
           {
            "marker": {
             "line": {
              "color": "#E5ECF6",
              "width": 0.5
             },
             "pattern": {
              "fillmode": "overlay",
              "size": 10,
              "solidity": 0.2
             }
            },
            "type": "barpolar"
           }
          ],
          "carpet": [
           {
            "aaxis": {
             "endlinecolor": "#2a3f5f",
             "gridcolor": "white",
             "linecolor": "white",
             "minorgridcolor": "white",
             "startlinecolor": "#2a3f5f"
            },
            "baxis": {
             "endlinecolor": "#2a3f5f",
             "gridcolor": "white",
             "linecolor": "white",
             "minorgridcolor": "white",
             "startlinecolor": "#2a3f5f"
            },
            "type": "carpet"
           }
          ],
          "choropleth": [
           {
            "colorbar": {
             "outlinewidth": 0,
             "ticks": ""
            },
            "type": "choropleth"
           }
          ],
          "contour": [
           {
            "colorbar": {
             "outlinewidth": 0,
             "ticks": ""
            },
            "colorscale": [
             [
              0,
              "#0d0887"
             ],
             [
              0.1111111111111111,
              "#46039f"
             ],
             [
              0.2222222222222222,
              "#7201a8"
             ],
             [
              0.3333333333333333,
              "#9c179e"
             ],
             [
              0.4444444444444444,
              "#bd3786"
             ],
             [
              0.5555555555555556,
              "#d8576b"
             ],
             [
              0.6666666666666666,
              "#ed7953"
             ],
             [
              0.7777777777777778,
              "#fb9f3a"
             ],
             [
              0.8888888888888888,
              "#fdca26"
             ],
             [
              1,
              "#f0f921"
             ]
            ],
            "type": "contour"
           }
          ],
          "contourcarpet": [
           {
            "colorbar": {
             "outlinewidth": 0,
             "ticks": ""
            },
            "type": "contourcarpet"
           }
          ],
          "heatmap": [
           {
            "colorbar": {
             "outlinewidth": 0,
             "ticks": ""
            },
            "colorscale": [
             [
              0,
              "#0d0887"
             ],
             [
              0.1111111111111111,
              "#46039f"
             ],
             [
              0.2222222222222222,
              "#7201a8"
             ],
             [
              0.3333333333333333,
              "#9c179e"
             ],
             [
              0.4444444444444444,
              "#bd3786"
             ],
             [
              0.5555555555555556,
              "#d8576b"
             ],
             [
              0.6666666666666666,
              "#ed7953"
             ],
             [
              0.7777777777777778,
              "#fb9f3a"
             ],
             [
              0.8888888888888888,
              "#fdca26"
             ],
             [
              1,
              "#f0f921"
             ]
            ],
            "type": "heatmap"
           }
          ],
          "histogram": [
           {
            "marker": {
             "pattern": {
              "fillmode": "overlay",
              "size": 10,
              "solidity": 0.2
             }
            },
            "type": "histogram"
           }
          ],
          "histogram2d": [
           {
            "colorbar": {
             "outlinewidth": 0,
             "ticks": ""
            },
            "colorscale": [
             [
              0,
              "#0d0887"
             ],
             [
              0.1111111111111111,
              "#46039f"
             ],
             [
              0.2222222222222222,
              "#7201a8"
             ],
             [
              0.3333333333333333,
              "#9c179e"
             ],
             [
              0.4444444444444444,
              "#bd3786"
             ],
             [
              0.5555555555555556,
              "#d8576b"
             ],
             [
              0.6666666666666666,
              "#ed7953"
             ],
             [
              0.7777777777777778,
              "#fb9f3a"
             ],
             [
              0.8888888888888888,
              "#fdca26"
             ],
             [
              1,
              "#f0f921"
             ]
            ],
            "type": "histogram2d"
           }
          ],
          "histogram2dcontour": [
           {
            "colorbar": {
             "outlinewidth": 0,
             "ticks": ""
            },
            "colorscale": [
             [
              0,
              "#0d0887"
             ],
             [
              0.1111111111111111,
              "#46039f"
             ],
             [
              0.2222222222222222,
              "#7201a8"
             ],
             [
              0.3333333333333333,
              "#9c179e"
             ],
             [
              0.4444444444444444,
              "#bd3786"
             ],
             [
              0.5555555555555556,
              "#d8576b"
             ],
             [
              0.6666666666666666,
              "#ed7953"
             ],
             [
              0.7777777777777778,
              "#fb9f3a"
             ],
             [
              0.8888888888888888,
              "#fdca26"
             ],
             [
              1,
              "#f0f921"
             ]
            ],
            "type": "histogram2dcontour"
           }
          ],
          "mesh3d": [
           {
            "colorbar": {
             "outlinewidth": 0,
             "ticks": ""
            },
            "type": "mesh3d"
           }
          ],
          "parcoords": [
           {
            "line": {
             "colorbar": {
              "outlinewidth": 0,
              "ticks": ""
             }
            },
            "type": "parcoords"
           }
          ],
          "pie": [
           {
            "automargin": true,
            "type": "pie"
           }
          ],
          "scatter": [
           {
            "fillpattern": {
             "fillmode": "overlay",
             "size": 10,
             "solidity": 0.2
            },
            "type": "scatter"
           }
          ],
          "scatter3d": [
           {
            "line": {
             "colorbar": {
              "outlinewidth": 0,
              "ticks": ""
             }
            },
            "marker": {
             "colorbar": {
              "outlinewidth": 0,
              "ticks": ""
             }
            },
            "type": "scatter3d"
           }
          ],
          "scattercarpet": [
           {
            "marker": {
             "colorbar": {
              "outlinewidth": 0,
              "ticks": ""
             }
            },
            "type": "scattercarpet"
           }
          ],
          "scattergeo": [
           {
            "marker": {
             "colorbar": {
              "outlinewidth": 0,
              "ticks": ""
             }
            },
            "type": "scattergeo"
           }
          ],
          "scattergl": [
           {
            "marker": {
             "colorbar": {
              "outlinewidth": 0,
              "ticks": ""
             }
            },
            "type": "scattergl"
           }
          ],
          "scattermap": [
           {
            "marker": {
             "colorbar": {
              "outlinewidth": 0,
              "ticks": ""
             }
            },
            "type": "scattermap"
           }
          ],
          "scattermapbox": [
           {
            "marker": {
             "colorbar": {
              "outlinewidth": 0,
              "ticks": ""
             }
            },
            "type": "scattermapbox"
           }
          ],
          "scatterpolar": [
           {
            "marker": {
             "colorbar": {
              "outlinewidth": 0,
              "ticks": ""
             }
            },
            "type": "scatterpolar"
           }
          ],
          "scatterpolargl": [
           {
            "marker": {
             "colorbar": {
              "outlinewidth": 0,
              "ticks": ""
             }
            },
            "type": "scatterpolargl"
           }
          ],
          "scatterternary": [
           {
            "marker": {
             "colorbar": {
              "outlinewidth": 0,
              "ticks": ""
             }
            },
            "type": "scatterternary"
           }
          ],
          "surface": [
           {
            "colorbar": {
             "outlinewidth": 0,
             "ticks": ""
            },
            "colorscale": [
             [
              0,
              "#0d0887"
             ],
             [
              0.1111111111111111,
              "#46039f"
             ],
             [
              0.2222222222222222,
              "#7201a8"
             ],
             [
              0.3333333333333333,
              "#9c179e"
             ],
             [
              0.4444444444444444,
              "#bd3786"
             ],
             [
              0.5555555555555556,
              "#d8576b"
             ],
             [
              0.6666666666666666,
              "#ed7953"
             ],
             [
              0.7777777777777778,
              "#fb9f3a"
             ],
             [
              0.8888888888888888,
              "#fdca26"
             ],
             [
              1,
              "#f0f921"
             ]
            ],
            "type": "surface"
           }
          ],
          "table": [
           {
            "cells": {
             "fill": {
              "color": "#EBF0F8"
             },
             "line": {
              "color": "white"
             }
            },
            "header": {
             "fill": {
              "color": "#C8D4E3"
             },
             "line": {
              "color": "white"
             }
            },
            "type": "table"
           }
          ]
         },
         "layout": {
          "annotationdefaults": {
           "arrowcolor": "#2a3f5f",
           "arrowhead": 0,
           "arrowwidth": 1
          },
          "autotypenumbers": "strict",
          "coloraxis": {
           "colorbar": {
            "outlinewidth": 0,
            "ticks": ""
           }
          },
          "colorscale": {
           "diverging": [
            [
             0,
             "#8e0152"
            ],
            [
             0.1,
             "#c51b7d"
            ],
            [
             0.2,
             "#de77ae"
            ],
            [
             0.3,
             "#f1b6da"
            ],
            [
             0.4,
             "#fde0ef"
            ],
            [
             0.5,
             "#f7f7f7"
            ],
            [
             0.6,
             "#e6f5d0"
            ],
            [
             0.7,
             "#b8e186"
            ],
            [
             0.8,
             "#7fbc41"
            ],
            [
             0.9,
             "#4d9221"
            ],
            [
             1,
             "#276419"
            ]
           ],
           "sequential": [
            [
             0,
             "#0d0887"
            ],
            [
             0.1111111111111111,
             "#46039f"
            ],
            [
             0.2222222222222222,
             "#7201a8"
            ],
            [
             0.3333333333333333,
             "#9c179e"
            ],
            [
             0.4444444444444444,
             "#bd3786"
            ],
            [
             0.5555555555555556,
             "#d8576b"
            ],
            [
             0.6666666666666666,
             "#ed7953"
            ],
            [
             0.7777777777777778,
             "#fb9f3a"
            ],
            [
             0.8888888888888888,
             "#fdca26"
            ],
            [
             1,
             "#f0f921"
            ]
           ],
           "sequentialminus": [
            [
             0,
             "#0d0887"
            ],
            [
             0.1111111111111111,
             "#46039f"
            ],
            [
             0.2222222222222222,
             "#7201a8"
            ],
            [
             0.3333333333333333,
             "#9c179e"
            ],
            [
             0.4444444444444444,
             "#bd3786"
            ],
            [
             0.5555555555555556,
             "#d8576b"
            ],
            [
             0.6666666666666666,
             "#ed7953"
            ],
            [
             0.7777777777777778,
             "#fb9f3a"
            ],
            [
             0.8888888888888888,
             "#fdca26"
            ],
            [
             1,
             "#f0f921"
            ]
           ]
          },
          "colorway": [
           "#636efa",
           "#EF553B",
           "#00cc96",
           "#ab63fa",
           "#FFA15A",
           "#19d3f3",
           "#FF6692",
           "#B6E880",
           "#FF97FF",
           "#FECB52"
          ],
          "font": {
           "color": "#2a3f5f"
          },
          "geo": {
           "bgcolor": "white",
           "lakecolor": "white",
           "landcolor": "#E5ECF6",
           "showlakes": true,
           "showland": true,
           "subunitcolor": "white"
          },
          "hoverlabel": {
           "align": "left"
          },
          "hovermode": "closest",
          "mapbox": {
           "style": "light"
          },
          "paper_bgcolor": "white",
          "plot_bgcolor": "#E5ECF6",
          "polar": {
           "angularaxis": {
            "gridcolor": "white",
            "linecolor": "white",
            "ticks": ""
           },
           "bgcolor": "#E5ECF6",
           "radialaxis": {
            "gridcolor": "white",
            "linecolor": "white",
            "ticks": ""
           }
          },
          "scene": {
           "xaxis": {
            "backgroundcolor": "#E5ECF6",
            "gridcolor": "white",
            "gridwidth": 2,
            "linecolor": "white",
            "showbackground": true,
            "ticks": "",
            "zerolinecolor": "white"
           },
           "yaxis": {
            "backgroundcolor": "#E5ECF6",
            "gridcolor": "white",
            "gridwidth": 2,
            "linecolor": "white",
            "showbackground": true,
            "ticks": "",
            "zerolinecolor": "white"
           },
           "zaxis": {
            "backgroundcolor": "#E5ECF6",
            "gridcolor": "white",
            "gridwidth": 2,
            "linecolor": "white",
            "showbackground": true,
            "ticks": "",
            "zerolinecolor": "white"
           }
          },
          "shapedefaults": {
           "line": {
            "color": "#2a3f5f"
           }
          },
          "ternary": {
           "aaxis": {
            "gridcolor": "white",
            "linecolor": "white",
            "ticks": ""
           },
           "baxis": {
            "gridcolor": "white",
            "linecolor": "white",
            "ticks": ""
           },
           "bgcolor": "#E5ECF6",
           "caxis": {
            "gridcolor": "white",
            "linecolor": "white",
            "ticks": ""
           }
          },
          "title": {
           "x": 0.05
          },
          "xaxis": {
           "automargin": true,
           "gridcolor": "white",
           "linecolor": "white",
           "ticks": "",
           "title": {
            "standoff": 15
           },
           "zerolinecolor": "white",
           "zerolinewidth": 2
          },
          "yaxis": {
           "automargin": true,
           "gridcolor": "white",
           "linecolor": "white",
           "ticks": "",
           "title": {
            "standoff": 15
           },
           "zerolinecolor": "white",
           "zerolinewidth": 2
          }
         }
        },
        "title": {
         "text": "Box Plot for MonthlyCharges"
        },
        "xaxis": {
         "anchor": "y",
         "domain": [
          0,
          1
         ]
        },
        "yaxis": {
         "anchor": "x",
         "domain": [
          0,
          1
         ],
         "title": {
          "text": "MonthlyCharges"
         }
        }
       }
      }
     },
     "metadata": {},
     "output_type": "display_data"
    },
    {
     "data": {
      "application/vnd.plotly.v1+json": {
       "config": {
        "plotlyServerURL": "https://plot.ly"
       },
       "data": [
        {
         "alignmentgroup": "True",
         "hovertemplate": "TotalCharges=%{y}<extra></extra>",
         "legendgroup": "",
         "marker": {
          "color": "#636efa"
         },
         "name": "",
         "notched": false,
         "offsetgroup": "",
         "orientation": "v",
         "showlegend": false,
         "type": "box",
         "x0": " ",
         "xaxis": "x",
         "y": {
          "bdata": "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",
          "dtype": "f8"
         },
         "y0": " ",
         "yaxis": "y"
        }
       ],
       "layout": {
        "boxmode": "group",
        "legend": {
         "tracegroupgap": 0
        },
        "template": {
         "data": {
          "bar": [
           {
            "error_x": {
             "color": "#2a3f5f"
            },
            "error_y": {
             "color": "#2a3f5f"
            },
            "marker": {
             "line": {
              "color": "#E5ECF6",
              "width": 0.5
             },
             "pattern": {
              "fillmode": "overlay",
              "size": 10,
              "solidity": 0.2
             }
            },
            "type": "bar"
           }
          ],
          "barpolar": [
           {
            "marker": {
             "line": {
              "color": "#E5ECF6",
              "width": 0.5
             },
             "pattern": {
              "fillmode": "overlay",
              "size": 10,
              "solidity": 0.2
             }
            },
            "type": "barpolar"
           }
          ],
          "carpet": [
           {
            "aaxis": {
             "endlinecolor": "#2a3f5f",
             "gridcolor": "white",
             "linecolor": "white",
             "minorgridcolor": "white",
             "startlinecolor": "#2a3f5f"
            },
            "baxis": {
             "endlinecolor": "#2a3f5f",
             "gridcolor": "white",
             "linecolor": "white",
             "minorgridcolor": "white",
             "startlinecolor": "#2a3f5f"
            },
            "type": "carpet"
           }
          ],
          "choropleth": [
           {
            "colorbar": {
             "outlinewidth": 0,
             "ticks": ""
            },
            "type": "choropleth"
           }
          ],
          "contour": [
           {
            "colorbar": {
             "outlinewidth": 0,
             "ticks": ""
            },
            "colorscale": [
             [
              0,
              "#0d0887"
             ],
             [
              0.1111111111111111,
              "#46039f"
             ],
             [
              0.2222222222222222,
              "#7201a8"
             ],
             [
              0.3333333333333333,
              "#9c179e"
             ],
             [
              0.4444444444444444,
              "#bd3786"
             ],
             [
              0.5555555555555556,
              "#d8576b"
             ],
             [
              0.6666666666666666,
              "#ed7953"
             ],
             [
              0.7777777777777778,
              "#fb9f3a"
             ],
             [
              0.8888888888888888,
              "#fdca26"
             ],
             [
              1,
              "#f0f921"
             ]
            ],
            "type": "contour"
           }
          ],
          "contourcarpet": [
           {
            "colorbar": {
             "outlinewidth": 0,
             "ticks": ""
            },
            "type": "contourcarpet"
           }
          ],
          "heatmap": [
           {
            "colorbar": {
             "outlinewidth": 0,
             "ticks": ""
            },
            "colorscale": [
             [
              0,
              "#0d0887"
             ],
             [
              0.1111111111111111,
              "#46039f"
             ],
             [
              0.2222222222222222,
              "#7201a8"
             ],
             [
              0.3333333333333333,
              "#9c179e"
             ],
             [
              0.4444444444444444,
              "#bd3786"
             ],
             [
              0.5555555555555556,
              "#d8576b"
             ],
             [
              0.6666666666666666,
              "#ed7953"
             ],
             [
              0.7777777777777778,
              "#fb9f3a"
             ],
             [
              0.8888888888888888,
              "#fdca26"
             ],
             [
              1,
              "#f0f921"
             ]
            ],
            "type": "heatmap"
           }
          ],
          "histogram": [
           {
            "marker": {
             "pattern": {
              "fillmode": "overlay",
              "size": 10,
              "solidity": 0.2
             }
            },
            "type": "histogram"
           }
          ],
          "histogram2d": [
           {
            "colorbar": {
             "outlinewidth": 0,
             "ticks": ""
            },
            "colorscale": [
             [
              0,
              "#0d0887"
             ],
             [
              0.1111111111111111,
              "#46039f"
             ],
             [
              0.2222222222222222,
              "#7201a8"
             ],
             [
              0.3333333333333333,
              "#9c179e"
             ],
             [
              0.4444444444444444,
              "#bd3786"
             ],
             [
              0.5555555555555556,
              "#d8576b"
             ],
             [
              0.6666666666666666,
              "#ed7953"
             ],
             [
              0.7777777777777778,
              "#fb9f3a"
             ],
             [
              0.8888888888888888,
              "#fdca26"
             ],
             [
              1,
              "#f0f921"
             ]
            ],
            "type": "histogram2d"
           }
          ],
          "histogram2dcontour": [
           {
            "colorbar": {
             "outlinewidth": 0,
             "ticks": ""
            },
            "colorscale": [
             [
              0,
              "#0d0887"
             ],
             [
              0.1111111111111111,
              "#46039f"
             ],
             [
              0.2222222222222222,
              "#7201a8"
             ],
             [
              0.3333333333333333,
              "#9c179e"
             ],
             [
              0.4444444444444444,
              "#bd3786"
             ],
             [
              0.5555555555555556,
              "#d8576b"
             ],
             [
              0.6666666666666666,
              "#ed7953"
             ],
             [
              0.7777777777777778,
              "#fb9f3a"
             ],
             [
              0.8888888888888888,
              "#fdca26"
             ],
             [
              1,
              "#f0f921"
             ]
            ],
            "type": "histogram2dcontour"
           }
          ],
          "mesh3d": [
           {
            "colorbar": {
             "outlinewidth": 0,
             "ticks": ""
            },
            "type": "mesh3d"
           }
          ],
          "parcoords": [
           {
            "line": {
             "colorbar": {
              "outlinewidth": 0,
              "ticks": ""
             }
            },
            "type": "parcoords"
           }
          ],
          "pie": [
           {
            "automargin": true,
            "type": "pie"
           }
          ],
          "scatter": [
           {
            "fillpattern": {
             "fillmode": "overlay",
             "size": 10,
             "solidity": 0.2
            },
            "type": "scatter"
           }
          ],
          "scatter3d": [
           {
            "line": {
             "colorbar": {
              "outlinewidth": 0,
              "ticks": ""
             }
            },
            "marker": {
             "colorbar": {
              "outlinewidth": 0,
              "ticks": ""
             }
            },
            "type": "scatter3d"
           }
          ],
          "scattercarpet": [
           {
            "marker": {
             "colorbar": {
              "outlinewidth": 0,
              "ticks": ""
             }
            },
            "type": "scattercarpet"
           }
          ],
          "scattergeo": [
           {
            "marker": {
             "colorbar": {
              "outlinewidth": 0,
              "ticks": ""
             }
            },
            "type": "scattergeo"
           }
          ],
          "scattergl": [
           {
            "marker": {
             "colorbar": {
              "outlinewidth": 0,
              "ticks": ""
             }
            },
            "type": "scattergl"
           }
          ],
          "scattermap": [
           {
            "marker": {
             "colorbar": {
              "outlinewidth": 0,
              "ticks": ""
             }
            },
            "type": "scattermap"
           }
          ],
          "scattermapbox": [
           {
            "marker": {
             "colorbar": {
              "outlinewidth": 0,
              "ticks": ""
             }
            },
            "type": "scattermapbox"
           }
          ],
          "scatterpolar": [
           {
            "marker": {
             "colorbar": {
              "outlinewidth": 0,
              "ticks": ""
             }
            },
            "type": "scatterpolar"
           }
          ],
          "scatterpolargl": [
           {
            "marker": {
             "colorbar": {
              "outlinewidth": 0,
              "ticks": ""
             }
            },
            "type": "scatterpolargl"
           }
          ],
          "scatterternary": [
           {
            "marker": {
             "colorbar": {
              "outlinewidth": 0,
              "ticks": ""
             }
            },
            "type": "scatterternary"
           }
          ],
          "surface": [
           {
            "colorbar": {
             "outlinewidth": 0,
             "ticks": ""
            },
            "colorscale": [
             [
              0,
              "#0d0887"
             ],
             [
              0.1111111111111111,
              "#46039f"
             ],
             [
              0.2222222222222222,
              "#7201a8"
             ],
             [
              0.3333333333333333,
              "#9c179e"
             ],
             [
              0.4444444444444444,
              "#bd3786"
             ],
             [
              0.5555555555555556,
              "#d8576b"
             ],
             [
              0.6666666666666666,
              "#ed7953"
             ],
             [
              0.7777777777777778,
              "#fb9f3a"
             ],
             [
              0.8888888888888888,
              "#fdca26"
             ],
             [
              1,
              "#f0f921"
             ]
            ],
            "type": "surface"
           }
          ],
          "table": [
           {
            "cells": {
             "fill": {
              "color": "#EBF0F8"
             },
             "line": {
              "color": "white"
             }
            },
            "header": {
             "fill": {
              "color": "#C8D4E3"
             },
             "line": {
              "color": "white"
             }
            },
            "type": "table"
           }
          ]
         },
         "layout": {
          "annotationdefaults": {
           "arrowcolor": "#2a3f5f",
           "arrowhead": 0,
           "arrowwidth": 1
          },
          "autotypenumbers": "strict",
          "coloraxis": {
           "colorbar": {
            "outlinewidth": 0,
            "ticks": ""
           }
          },
          "colorscale": {
           "diverging": [
            [
             0,
             "#8e0152"
            ],
            [
             0.1,
             "#c51b7d"
            ],
            [
             0.2,
             "#de77ae"
            ],
            [
             0.3,
             "#f1b6da"
            ],
            [
             0.4,
             "#fde0ef"
            ],
            [
             0.5,
             "#f7f7f7"
            ],
            [
             0.6,
             "#e6f5d0"
            ],
            [
             0.7,
             "#b8e186"
            ],
            [
             0.8,
             "#7fbc41"
            ],
            [
             0.9,
             "#4d9221"
            ],
            [
             1,
             "#276419"
            ]
           ],
           "sequential": [
            [
             0,
             "#0d0887"
            ],
            [
             0.1111111111111111,
             "#46039f"
            ],
            [
             0.2222222222222222,
             "#7201a8"
            ],
            [
             0.3333333333333333,
             "#9c179e"
            ],
            [
             0.4444444444444444,
             "#bd3786"
            ],
            [
             0.5555555555555556,
             "#d8576b"
            ],
            [
             0.6666666666666666,
             "#ed7953"
            ],
            [
             0.7777777777777778,
             "#fb9f3a"
            ],
            [
             0.8888888888888888,
             "#fdca26"
            ],
            [
             1,
             "#f0f921"
            ]
           ],
           "sequentialminus": [
            [
             0,
             "#0d0887"
            ],
            [
             0.1111111111111111,
             "#46039f"
            ],
            [
             0.2222222222222222,
             "#7201a8"
            ],
            [
             0.3333333333333333,
             "#9c179e"
            ],
            [
             0.4444444444444444,
             "#bd3786"
            ],
            [
             0.5555555555555556,
             "#d8576b"
            ],
            [
             0.6666666666666666,
             "#ed7953"
            ],
            [
             0.7777777777777778,
             "#fb9f3a"
            ],
            [
             0.8888888888888888,
             "#fdca26"
            ],
            [
             1,
             "#f0f921"
            ]
           ]
          },
          "colorway": [
           "#636efa",
           "#EF553B",
           "#00cc96",
           "#ab63fa",
           "#FFA15A",
           "#19d3f3",
           "#FF6692",
           "#B6E880",
           "#FF97FF",
           "#FECB52"
          ],
          "font": {
           "color": "#2a3f5f"
          },
          "geo": {
           "bgcolor": "white",
           "lakecolor": "white",
           "landcolor": "#E5ECF6",
           "showlakes": true,
           "showland": true,
           "subunitcolor": "white"
          },
          "hoverlabel": {
           "align": "left"
          },
          "hovermode": "closest",
          "mapbox": {
           "style": "light"
          },
          "paper_bgcolor": "white",
          "plot_bgcolor": "#E5ECF6",
          "polar": {
           "angularaxis": {
            "gridcolor": "white",
            "linecolor": "white",
            "ticks": ""
           },
           "bgcolor": "#E5ECF6",
           "radialaxis": {
            "gridcolor": "white",
            "linecolor": "white",
            "ticks": ""
           }
          },
          "scene": {
           "xaxis": {
            "backgroundcolor": "#E5ECF6",
            "gridcolor": "white",
            "gridwidth": 2,
            "linecolor": "white",
            "showbackground": true,
            "ticks": "",
            "zerolinecolor": "white"
           },
           "yaxis": {
            "backgroundcolor": "#E5ECF6",
            "gridcolor": "white",
            "gridwidth": 2,
            "linecolor": "white",
            "showbackground": true,
            "ticks": "",
            "zerolinecolor": "white"
           },
           "zaxis": {
            "backgroundcolor": "#E5ECF6",
            "gridcolor": "white",
            "gridwidth": 2,
            "linecolor": "white",
            "showbackground": true,
            "ticks": "",
            "zerolinecolor": "white"
           }
          },
          "shapedefaults": {
           "line": {
            "color": "#2a3f5f"
           }
          },
          "ternary": {
           "aaxis": {
            "gridcolor": "white",
            "linecolor": "white",
            "ticks": ""
           },
           "baxis": {
            "gridcolor": "white",
            "linecolor": "white",
            "ticks": ""
           },
           "bgcolor": "#E5ECF6",
           "caxis": {
            "gridcolor": "white",
            "linecolor": "white",
            "ticks": ""
           }
          },
          "title": {
           "x": 0.05
          },
          "xaxis": {
           "automargin": true,
           "gridcolor": "white",
           "linecolor": "white",
           "ticks": "",
           "title": {
            "standoff": 15
           },
           "zerolinecolor": "white",
           "zerolinewidth": 2
          },
          "yaxis": {
           "automargin": true,
           "gridcolor": "white",
           "linecolor": "white",
           "ticks": "",
           "title": {
            "standoff": 15
           },
           "zerolinecolor": "white",
           "zerolinewidth": 2
          }
         }
        },
        "title": {
         "text": "Box Plot for TotalCharges"
        },
        "xaxis": {
         "anchor": "y",
         "domain": [
          0,
          1
         ]
        },
        "yaxis": {
         "anchor": "x",
         "domain": [
          0,
          1
         ],
         "title": {
          "text": "TotalCharges"
         }
        }
       }
      }
     },
     "metadata": {},
     "output_type": "display_data"
    }
   ],
   "source": [
    "for col in numeric_feature:\n",
    "    fig = px.box(churn_data, y=col, title=f\"Box Plot for {col}\")\n",
    "    fig.show()"
   ]
  },
  {
   "cell_type": "markdown",
   "metadata": {},
   "source": [
    "## Encode columns"
   ]
  },
  {
   "cell_type": "code",
   "execution_count": 18,
   "metadata": {},
   "outputs": [
    {
     "name": "stdout",
     "output_type": "stream",
     "text": [
      "gender: ['Female' 'Male']\n",
      "\n",
      "SeniorCitizen: [0 1]\n",
      "\n",
      "Partner: ['Yes' 'No']\n",
      "\n",
      "Dependents: ['No' 'Yes']\n",
      "\n",
      "PhoneService: ['No' 'Yes']\n",
      "\n",
      "MultipleLines: ['No phone service' 'No' 'Yes']\n",
      "\n",
      "InternetService: ['DSL' 'Fiber optic' 'No']\n",
      "\n",
      "OnlineSecurity: ['No' 'Yes' 'No internet service']\n",
      "\n",
      "OnlineBackup: ['Yes' 'No' 'No internet service']\n",
      "\n",
      "DeviceProtection: ['No' 'Yes' 'No internet service']\n",
      "\n",
      "TechSupport: ['No' 'Yes' 'No internet service']\n",
      "\n",
      "StreamingTV: ['No' 'Yes' 'No internet service']\n",
      "\n",
      "StreamingMovies: ['No' 'Yes' 'No internet service']\n",
      "\n",
      "Contract: ['Month-to-month' 'One year' 'Two year']\n",
      "\n",
      "PaperlessBilling: ['Yes' 'No']\n",
      "\n",
      "PaymentMethod: ['Electronic check' 'Mailed check' 'Bank transfer (automatic)'\n",
      " 'Credit card (automatic)']\n",
      "\n",
      "Churn: ['No' 'Yes']\n",
      "\n"
     ]
    }
   ],
   "source": [
    "categorical_features = [col for col in churn_data.columns if col not in numeric_feature]\n",
    "for i in range(len(categorical_features)):\n",
    "    print(f\"{categorical_features[i]}: {churn_data[categorical_features[i]].unique()}\")\n",
    "    print()"
   ]
  },
  {
   "cell_type": "code",
   "execution_count": 19,
   "metadata": {},
   "outputs": [
    {
     "name": "stdout",
     "output_type": "stream",
     "text": [
      "   SeniorCitizen  Partner  Dependents  tenure  PhoneService  MultipleLines  \\\n",
      "0              0        1           0       1             0              1   \n",
      "1              0        0           0      34             1              0   \n",
      "2              0        0           0       2             1              0   \n",
      "3              0        0           0      45             0              1   \n",
      "4              0        0           0       2             1              0   \n",
      "\n",
      "   InternetService  OnlineSecurity  OnlineBackup  DeviceProtection  ...  \\\n",
      "0                0               0             2                 0  ...   \n",
      "1                0               2             0                 2  ...   \n",
      "2                0               2             2                 0  ...   \n",
      "3                0               2             0                 2  ...   \n",
      "4                1               0             0                 0  ...   \n",
      "\n",
      "   PaperlessBilling  MonthlyCharges  TotalCharges  Churn  gender_Male  \\\n",
      "0                 1           29.85         29.85      0        False   \n",
      "1                 0           56.95       1889.50      0         True   \n",
      "2                 1           53.85        108.15      1         True   \n",
      "3                 0           42.30       1840.75      0         True   \n",
      "4                 1           70.70        151.65      1        False   \n",
      "\n",
      "   Contract_One year  Contract_Two year  \\\n",
      "0              False              False   \n",
      "1               True              False   \n",
      "2              False              False   \n",
      "3               True              False   \n",
      "4              False              False   \n",
      "\n",
      "   PaymentMethod_Credit card (automatic)  PaymentMethod_Electronic check  \\\n",
      "0                                  False                            True   \n",
      "1                                  False                           False   \n",
      "2                                  False                           False   \n",
      "3                                  False                           False   \n",
      "4                                  False                            True   \n",
      "\n",
      "   PaymentMethod_Mailed check  \n",
      "0                       False  \n",
      "1                        True  \n",
      "2                        True  \n",
      "3                       False  \n",
      "4                       False  \n",
      "\n",
      "[5 rows x 23 columns]\n"
     ]
    }
   ],
   "source": [
    "import pandas as pd\n",
    "from sklearn.preprocessing import OneHotEncoder, LabelEncoder\n",
    "data = churn_data.copy()\n",
    "\n",
    "one_hot_cols = ['gender', 'Contract', 'PaymentMethod']\n",
    "label_cols = [col for col in categorical_features if col not in one_hot_cols+['SeniorCitizen']]\n",
    "\n",
    "\n",
    "\n",
    "label_encoders = {}\n",
    "for col in label_cols:\n",
    "    le = LabelEncoder()\n",
    "    data[col] = le.fit_transform(data[col])\n",
    "    label_encoders[col] = le\n",
    "\n",
    "df_encoded = pd.get_dummies(data, columns=one_hot_cols, drop_first=True)\n",
    "\n",
    "print(df_encoded.head())"
   ]
  },
  {
   "cell_type": "code",
   "execution_count": 20,
   "metadata": {},
   "outputs": [
    {
     "data": {
      "text/plain": [
       "Index(['SeniorCitizen', 'Partner', 'Dependents', 'tenure', 'PhoneService',\n",
       "       'MultipleLines', 'InternetService', 'OnlineSecurity', 'OnlineBackup',\n",
       "       'DeviceProtection', 'TechSupport', 'StreamingTV', 'StreamingMovies',\n",
       "       'PaperlessBilling', 'MonthlyCharges', 'TotalCharges', 'Churn',\n",
       "       'gender_Male', 'Contract_One year', 'Contract_Two year',\n",
       "       'PaymentMethod_Credit card (automatic)',\n",
       "       'PaymentMethod_Electronic check', 'PaymentMethod_Mailed check'],\n",
       "      dtype='object')"
      ]
     },
     "execution_count": 20,
     "metadata": {},
     "output_type": "execute_result"
    }
   ],
   "source": [
    "df_encoded.columns"
   ]
  },
  {
   "cell_type": "markdown",
   "metadata": {},
   "source": [
    "## Oversampling Method"
   ]
  },
  {
   "cell_type": "code",
   "execution_count": 21,
   "metadata": {},
   "outputs": [
    {
     "data": {
      "text/plain": [
       "<Axes: xlabel='Churn', ylabel='count'>"
      ]
     },
     "execution_count": 21,
     "metadata": {},
     "output_type": "execute_result"
    },
    {
     "data": {
      "image/png": "[encoded data removed]",
      "text/plain": [
       "<Figure size 640x480 with 1 Axes>"
      ]
     },
     "metadata": {},
     "output_type": "display_data"
    }
   ],
   "source": [
    "sns.countplot(x = \"Churn\", data = churn_data)"
   ]
  },
  {
   "cell_type": "code",
   "execution_count": 31,
   "metadata": {},
   "outputs": [
    {
     "name": "stdout",
     "output_type": "stream",
     "text": [
      "Before Oversampling: Counter({0: 5174, 1: 1869})\n",
      "After RandomOverSampling: Counter({0: 5174, 1: 5174})\n",
      "After SMOTE: Counter({0: 5174, 1: 5174})\n",
      "After SMOTETomek: Counter({0: 4809, 1: 4809})\n"
     ]
    }
   ],
   "source": [
    "import pandas as pd\n",
    "import numpy as np\n",
    "from collections import Counter\n",
    "from imblearn.over_sampling import RandomOverSampler, SMOTE\n",
    "from imblearn.combine import SMOTETomek\n",
    "from sklearn.model_selection import train_test_split\n",
    "from sklearn.datasets import make_classification\n",
    "from sklearn.linear_model import LogisticRegression\n",
    "from sklearn.metrics import accuracy_score, classification_report, confusion_matrix\n",
    "from sklearn.preprocessing import Normalizer\n",
    "\n",
    "# Sample dataset with an imbalanced target feature\n",
    "df = df_encoded.copy()\n",
    "\n",
    "\n",
    "X = df.drop(columns=['Churn'], axis=1)\n",
    "y = df['Churn']\n",
    "\n",
    "\n",
    "print(\"Before Oversampling:\", Counter(y))\n",
    "\n",
    "ros = RandomOverSampler(random_state=42)\n",
    "X_ros, y_ros = ros.fit_resample(X, y)\n",
    "print(\"After RandomOverSampling:\", Counter(y_ros))\n",
    "\n",
    "smote = SMOTE(random_state=42)\n",
    "X_smote, y_smote = smote.fit_resample(X, y)\n",
    "print(\"After SMOTE:\", Counter(y_smote))\n",
    "\n",
    "smote_tomek = SMOTETomek(random_state=42)\n",
    "X_smt, y_smt = smote_tomek.fit_resample(X, y)\n",
    "print(\"After SMOTETomek:\", Counter(y_smt))"
   ]
  },
  {
   "cell_type": "code",
   "execution_count": 24,
   "metadata": {},
   "outputs": [
    {
     "data": {
      "text/plain": [
       "0       0\n",
       "1       0\n",
       "2       1\n",
       "3       0\n",
       "4       1\n",
       "       ..\n",
       "7038    0\n",
       "7039    0\n",
       "7040    0\n",
       "7041    1\n",
       "7042    0\n",
       "Name: Churn, Length: 7043, dtype: int64"
      ]
     },
     "execution_count": 24,
     "metadata": {},
     "output_type": "execute_result"
    }
   ],
   "source": [
    "X"
   ]
  },
  {
   "cell_type": "code",
   "execution_count": 23,
   "metadata": {},
   "outputs": [],
   "source": [
    "def train_data(X, y):\n",
    "    X_train, X_test, y_train, y_test = train_test_split(X, y, test_size=0.3, random_state=42)\n",
    "    # Initialize Models\n",
    "    models = {\n",
    "        \"Logistic Regression\": LogisticRegression(),\n",
    "        \"Random Forest with Imbalance\": RandomForestClassifier(n_estimators=100, class_weight='balanced',random_state=42),\n",
    "        \"Random Forest\": RandomForestClassifier(n_estimators=100, random_state=42),\n",
    "    }\n",
    "\n",
    "    # Train & Evaluate Each Model\n",
    "    for name, model in models.items():\n",
    "        model.fit(X_train, y_train)\n",
    "        y_pred = model.predict(X_test)\n",
    "        y_pred_train = model.predict(X_train)\n",
    "\n",
    "        training_accuracy = accuracy_score(y_train, y_pred_train)\n",
    "\n",
    "\n",
    "        print(f\"\\n{name} Performance:\")\n",
    "        print(\"Test Accuracy:\", accuracy_score(y_test, y_pred))\n",
    "        print(f\"Training Accuracy: {training_accuracy}\")\n",
    "\n",
    "        print(\"Classification Report:\\n\", classification_report(y_test, y_pred))\n",
    "        print(\"Confusion Matrix:\\n\", confusion_matrix(y_test, y_pred))"
   ]
  },
  {
   "cell_type": "code",
   "execution_count": 26,
   "metadata": {},
   "outputs": [],
   "source": [
    "X_train, X_test, y_train, y_test = train_test_split(X, y, test_size=0.3, random_state=42)"
   ]
  },
  {
   "cell_type": "code",
   "execution_count": 27,
   "metadata": {},
   "outputs": [
    {
     "name": "stderr",
     "output_type": "stream",
     "text": [
      "/opt/miniconda3/envs/jpm-env/lib/python3.13/site-packages/sklearn/linear_model/_logistic.py:465: ConvergenceWarning:\n",
      "\n",
      "lbfgs failed to converge (status=1):\n",
      "STOP: TOTAL NO. OF ITERATIONS REACHED LIMIT.\n",
      "\n",
      "Increase the number of iterations (max_iter) or scale the data as shown in:\n",
      "    https://scikit-learn.org/stable/modules/preprocessing.html\n",
      "Please also refer to the documentation for alternative solver options:\n",
      "    https://scikit-learn.org/stable/modules/linear_model.html#logistic-regression\n",
      "\n"
     ]
    },
    {
     "name": "stdout",
     "output_type": "stream",
     "text": [
      "\n",
      "Logistic Regression Performance:\n",
      "Test Accuracy: 0.8002839564600095\n",
      "Training Accuracy: 0.8062880324543611\n",
      "Classification Report:\n",
      "               precision    recall  f1-score   support\n",
      "\n",
      "           0       0.84      0.90      0.87      1539\n",
      "           1       0.67      0.53      0.59       574\n",
      "\n",
      "    accuracy                           0.80      2113\n",
      "   macro avg       0.75      0.71      0.73      2113\n",
      "weighted avg       0.79      0.80      0.79      2113\n",
      "\n",
      "Confusion Matrix:\n",
      " [[1389  150]\n",
      " [ 272  302]]\n",
      "\n",
      "Random Forest with Imbalance Performance:\n",
      "Test Accuracy: 0.7898722195929957\n",
      "Training Accuracy: 0.9983772819472616\n",
      "Classification Report:\n",
      "               precision    recall  f1-score   support\n",
      "\n",
      "           0       0.82      0.92      0.86      1539\n",
      "           1       0.67      0.45      0.54       574\n",
      "\n",
      "    accuracy                           0.79      2113\n",
      "   macro avg       0.74      0.68      0.70      2113\n",
      "weighted avg       0.78      0.79      0.78      2113\n",
      "\n",
      "Confusion Matrix:\n",
      " [[1410  129]\n",
      " [ 315  259]]\n",
      "\n",
      "Random Forest Performance:\n",
      "Test Accuracy: 0.7893989588263133\n",
      "Training Accuracy: 0.9983772819472616\n",
      "Classification Report:\n",
      "               precision    recall  f1-score   support\n",
      "\n",
      "           0       0.82      0.91      0.86      1539\n",
      "           1       0.66      0.47      0.55       574\n",
      "\n",
      "    accuracy                           0.79      2113\n",
      "   macro avg       0.74      0.69      0.70      2113\n",
      "weighted avg       0.78      0.79      0.78      2113\n",
      "\n",
      "Confusion Matrix:\n",
      " [[1401  138]\n",
      " [ 307  267]]\n"
     ]
    }
   ],
   "source": [
    "models = {\n",
    "        \"Logistic Regression\": LogisticRegression(),\n",
    "        \"Random Forest with Imbalance\": RandomForestClassifier(n_estimators=100, class_weight='balanced',random_state=42),\n",
    "        \"Random Forest\": RandomForestClassifier(n_estimators=100, random_state=42),\n",
    "}\n",
    "\n",
    "# Train & Evaluate Each Model\n",
    "for name, model in models.items():\n",
    "    model.fit(X_train, y_train)\n",
    "    y_pred = model.predict(X_test)\n",
    "    y_pred_train = model.predict(X_train)\n",
    "\n",
    "    training_accuracy = accuracy_score(y_train, y_pred_train)\n",
    "\n",
    "\n",
    "    print(f\"\\n{name} Performance:\")\n",
    "    print(\"Test Accuracy:\", accuracy_score(y_test, y_pred))\n",
    "    print(f\"Training Accuracy: {training_accuracy}\")\n",
    "\n",
    "    print(\"Classification Report:\\n\", classification_report(y_test, y_pred))\n",
    "    print(\"Confusion Matrix:\\n\", confusion_matrix(y_test, y_pred))"
   ]
  },
  {
   "cell_type": "code",
   "execution_count": 28,
   "metadata": {},
   "outputs": [
    {
     "name": "stderr",
     "output_type": "stream",
     "text": [
      "/opt/miniconda3/envs/jpm-env/lib/python3.13/site-packages/sklearn/linear_model/_logistic.py:465: ConvergenceWarning:\n",
      "\n",
      "lbfgs failed to converge (status=1):\n",
      "STOP: TOTAL NO. OF ITERATIONS REACHED LIMIT.\n",
      "\n",
      "Increase the number of iterations (max_iter) or scale the data as shown in:\n",
      "    https://scikit-learn.org/stable/modules/preprocessing.html\n",
      "Please also refer to the documentation for alternative solver options:\n",
      "    https://scikit-learn.org/stable/modules/linear_model.html#logistic-regression\n",
      "\n"
     ]
    },
    {
     "name": "stdout",
     "output_type": "stream",
     "text": [
      "\n",
      "Logistic Regression Performance:\n",
      "Test Accuracy: 0.7822866344605475\n",
      "Training Accuracy: 0.7553499930967831\n",
      "Classification Report:\n",
      "               precision    recall  f1-score   support\n",
      "\n",
      "           0       0.81      0.75      0.78      1574\n",
      "           1       0.76      0.81      0.79      1531\n",
      "\n",
      "    accuracy                           0.78      3105\n",
      "   macro avg       0.78      0.78      0.78      3105\n",
      "weighted avg       0.78      0.78      0.78      3105\n",
      "\n",
      "Confusion Matrix:\n",
      " [[1184  390]\n",
      " [ 286 1245]]\n",
      "\n",
      "Random Forest with Imbalance Performance:\n",
      "Test Accuracy: 0.8904991948470209\n",
      "Training Accuracy: 0.9984812922822035\n",
      "Classification Report:\n",
      "               precision    recall  f1-score   support\n",
      "\n",
      "           0       0.94      0.84      0.89      1574\n",
      "           1       0.85      0.95      0.89      1531\n",
      "\n",
      "    accuracy                           0.89      3105\n",
      "   macro avg       0.89      0.89      0.89      3105\n",
      "weighted avg       0.90      0.89      0.89      3105\n",
      "\n",
      "Confusion Matrix:\n",
      " [[1317  257]\n",
      " [  83 1448]]\n",
      "\n",
      "Random Forest Performance:\n",
      "Test Accuracy: 0.8924315619967794\n",
      "Training Accuracy: 0.9984812922822035\n",
      "Classification Report:\n",
      "               precision    recall  f1-score   support\n",
      "\n",
      "           0       0.94      0.84      0.89      1574\n",
      "           1       0.85      0.94      0.90      1531\n",
      "\n",
      "    accuracy                           0.89      3105\n",
      "   macro avg       0.90      0.89      0.89      3105\n",
      "weighted avg       0.90      0.89      0.89      3105\n",
      "\n",
      "Confusion Matrix:\n",
      " [[1325  249]\n",
      " [  85 1446]]\n"
     ]
    }
   ],
   "source": [
    "train_data(X_ros, y_ros)"
   ]
  },
  {
   "cell_type": "code",
   "execution_count": 29,
   "metadata": {},
   "outputs": [
    {
     "name": "stderr",
     "output_type": "stream",
     "text": [
      "/opt/miniconda3/envs/jpm-env/lib/python3.13/site-packages/sklearn/linear_model/_logistic.py:465: ConvergenceWarning:\n",
      "\n",
      "lbfgs failed to converge (status=1):\n",
      "STOP: TOTAL NO. OF ITERATIONS REACHED LIMIT.\n",
      "\n",
      "Increase the number of iterations (max_iter) or scale the data as shown in:\n",
      "    https://scikit-learn.org/stable/modules/preprocessing.html\n",
      "Please also refer to the documentation for alternative solver options:\n",
      "    https://scikit-learn.org/stable/modules/linear_model.html#logistic-regression\n",
      "\n"
     ]
    },
    {
     "name": "stdout",
     "output_type": "stream",
     "text": [
      "\n",
      "Logistic Regression Performance:\n",
      "Test Accuracy: 0.8090177133655394\n",
      "Training Accuracy: 0.7981499378710479\n",
      "Classification Report:\n",
      "               precision    recall  f1-score   support\n",
      "\n",
      "           0       0.82      0.79      0.81      1574\n",
      "           1       0.80      0.82      0.81      1531\n",
      "\n",
      "    accuracy                           0.81      3105\n",
      "   macro avg       0.81      0.81      0.81      3105\n",
      "weighted avg       0.81      0.81      0.81      3105\n",
      "\n",
      "Confusion Matrix:\n",
      " [[1249  325]\n",
      " [ 268 1263]]\n",
      "\n",
      "Random Forest with Imbalance Performance:\n",
      "Test Accuracy: 0.8518518518518519\n",
      "Training Accuracy: 0.998895485296148\n",
      "Classification Report:\n",
      "               precision    recall  f1-score   support\n",
      "\n",
      "           0       0.85      0.86      0.85      1574\n",
      "           1       0.85      0.85      0.85      1531\n",
      "\n",
      "    accuracy                           0.85      3105\n",
      "   macro avg       0.85      0.85      0.85      3105\n",
      "weighted avg       0.85      0.85      0.85      3105\n",
      "\n",
      "Confusion Matrix:\n",
      " [[1350  224]\n",
      " [ 236 1295]]\n",
      "\n",
      "Random Forest Performance:\n",
      "Test Accuracy: 0.8492753623188406\n",
      "Training Accuracy: 0.998895485296148\n",
      "Classification Report:\n",
      "               precision    recall  f1-score   support\n",
      "\n",
      "           0       0.85      0.85      0.85      1574\n",
      "           1       0.85      0.84      0.85      1531\n",
      "\n",
      "    accuracy                           0.85      3105\n",
      "   macro avg       0.85      0.85      0.85      3105\n",
      "weighted avg       0.85      0.85      0.85      3105\n",
      "\n",
      "Confusion Matrix:\n",
      " [[1344  230]\n",
      " [ 238 1293]]\n"
     ]
    }
   ],
   "source": [
    "train_data(X_smote, y_smote)"
   ]
  },
  {
   "cell_type": "code",
   "execution_count": 30,
   "metadata": {},
   "outputs": [
    {
     "name": "stderr",
     "output_type": "stream",
     "text": [
      "/opt/miniconda3/envs/jpm-env/lib/python3.13/site-packages/sklearn/linear_model/_logistic.py:465: ConvergenceWarning:\n",
      "\n",
      "lbfgs failed to converge (status=1):\n",
      "STOP: TOTAL NO. OF ITERATIONS REACHED LIMIT.\n",
      "\n",
      "Increase the number of iterations (max_iter) or scale the data as shown in:\n",
      "    https://scikit-learn.org/stable/modules/preprocessing.html\n",
      "Please also refer to the documentation for alternative solver options:\n",
      "    https://scikit-learn.org/stable/modules/linear_model.html#logistic-regression\n",
      "\n"
     ]
    },
    {
     "name": "stdout",
     "output_type": "stream",
     "text": [
      "\n",
      "Logistic Regression Performance:\n",
      "Test Accuracy: 0.8184338184338185\n",
      "Training Accuracy: 0.8265002970885323\n",
      "Classification Report:\n",
      "               precision    recall  f1-score   support\n",
      "\n",
      "           0       0.83      0.80      0.82      1447\n",
      "           1       0.81      0.84      0.82      1439\n",
      "\n",
      "    accuracy                           0.82      2886\n",
      "   macro avg       0.82      0.82      0.82      2886\n",
      "weighted avg       0.82      0.82      0.82      2886\n",
      "\n",
      "Confusion Matrix:\n",
      " [[1155  292]\n",
      " [ 232 1207]]\n",
      "\n",
      "Random Forest with Imbalance Performance:\n",
      "Test Accuracy: 0.8607068607068608\n",
      "Training Accuracy: 0.9989601901366607\n",
      "Classification Report:\n",
      "               precision    recall  f1-score   support\n",
      "\n",
      "           0       0.87      0.85      0.86      1447\n",
      "           1       0.85      0.87      0.86      1439\n",
      "\n",
      "    accuracy                           0.86      2886\n",
      "   macro avg       0.86      0.86      0.86      2886\n",
      "weighted avg       0.86      0.86      0.86      2886\n",
      "\n",
      "Confusion Matrix:\n",
      " [[1230  217]\n",
      " [ 185 1254]]\n",
      "\n",
      "Random Forest Performance:\n",
      "Test Accuracy: 0.86001386001386\n",
      "Training Accuracy: 0.9989601901366607\n",
      "Classification Report:\n",
      "               precision    recall  f1-score   support\n",
      "\n",
      "           0       0.87      0.85      0.86      1447\n",
      "           1       0.85      0.87      0.86      1439\n",
      "\n",
      "    accuracy                           0.86      2886\n",
      "   macro avg       0.86      0.86      0.86      2886\n",
      "weighted avg       0.86      0.86      0.86      2886\n",
      "\n",
      "Confusion Matrix:\n",
      " [[1231  216]\n",
      " [ 188 1251]]\n"
     ]
    }
   ],
   "source": [
    "train_data(X_smt, y_smt)"
   ]
  },
  {
   "cell_type": "markdown",
   "metadata": {},
   "source": [
    "## Handle overfitting"
   ]
  },
  {
   "cell_type": "code",
   "execution_count": 32,
   "metadata": {},
   "outputs": [
    {
     "name": "stdout",
     "output_type": "stream",
     "text": [
      "\n",
      "Logistic Regression Performance:\n",
      "Test Accuracy: 0.6769726247987118\n",
      "Training Accuracy: 0.6736159050117355\n",
      "Classification Report:\n",
      "               precision    recall  f1-score   support\n",
      "\n",
      "           0       0.64      0.85      0.73      1574\n",
      "           1       0.76      0.50      0.60      1531\n",
      "\n",
      "    accuracy                           0.68      3105\n",
      "   macro avg       0.70      0.67      0.67      3105\n",
      "weighted avg       0.70      0.68      0.67      3105\n",
      "\n",
      "Confusion Matrix:\n",
      " [[1334  240]\n",
      " [ 763  768]]\n",
      "\n",
      "Random Forest with Imbalance Performance:\n",
      "Test Accuracy: 0.8927536231884058\n",
      "Training Accuracy: 0.9984812922822035\n",
      "Classification Report:\n",
      "               precision    recall  f1-score   support\n",
      "\n",
      "           0       0.95      0.84      0.89      1574\n",
      "           1       0.85      0.95      0.90      1531\n",
      "\n",
      "    accuracy                           0.89      3105\n",
      "   macro avg       0.90      0.89      0.89      3105\n",
      "weighted avg       0.90      0.89      0.89      3105\n",
      "\n",
      "Confusion Matrix:\n",
      " [[1317  257]\n",
      " [  76 1455]]\n",
      "\n",
      "Random Forest Performance:\n",
      "Test Accuracy: 0.8901771336553945\n",
      "Training Accuracy: 0.9984812922822035\n",
      "Classification Report:\n",
      "               precision    recall  f1-score   support\n",
      "\n",
      "           0       0.94      0.83      0.89      1574\n",
      "           1       0.85      0.95      0.89      1531\n",
      "\n",
      "    accuracy                           0.89      3105\n",
      "   macro avg       0.89      0.89      0.89      3105\n",
      "weighted avg       0.90      0.89      0.89      3105\n",
      "\n",
      "Confusion Matrix:\n",
      " [[1314  260]\n",
      " [  81 1450]]\n"
     ]
    }
   ],
   "source": [
    "normalizer = Normalizer(norm='l2')\n",
    "X_normalized = normalizer.fit_transform(X_ros)\n",
    "\n",
    "train_data(X_normalized, y_ros)"
   ]
  }
 ],
 "metadata": {
  "kernelspec": {
   "display_name": "jpm-env",
   "language": "python",
   "name": "python3"
  },
  "language_info": {
   "codemirror_mode": {
    "name": "ipython",
    "version": 3
   },
   "file_extension": ".py",
   "mimetype": "text/x-python",
   "name": "python",
   "nbconvert_exporter": "python",
   "pygments_lexer": "ipython3",
   "version": "3.13.2"
  }
 },
 "nbformat": 4,
 "nbformat_minor": 2
}
